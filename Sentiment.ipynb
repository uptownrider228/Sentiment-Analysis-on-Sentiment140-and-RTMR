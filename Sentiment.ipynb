{
 "cells": [
  {
   "cell_type": "code",
   "execution_count": 2,
   "id": "2d480448",
   "metadata": {
    "colab": {
     "base_uri": "https://localhost:8080/"
    },
    "id": "2d480448",
    "outputId": "a322cf80-1f45-414f-f5da-a4f3150d45d8"
   },
   "outputs": [
    {
     "ename": "ModuleNotFoundError",
     "evalue": "No module named 'keras'",
     "output_type": "error",
     "traceback": [
      "\u001b[0;31m---------------------------------------------------------------------------\u001b[0m",
      "\u001b[0;31mModuleNotFoundError\u001b[0m                       Traceback (most recent call last)",
      "\u001b[0;32m/var/folders/qg/5jpdf6ns1hvdl1lbv9jwcqym0000gn/T/ipykernel_15000/660672273.py\u001b[0m in \u001b[0;36m<module>\u001b[0;34m\u001b[0m\n\u001b[1;32m     17\u001b[0m \u001b[0;32mfrom\u001b[0m \u001b[0mnltk\u001b[0m\u001b[0;34m.\u001b[0m\u001b[0mstem\u001b[0m \u001b[0;32mimport\u001b[0m \u001b[0mWordNetLemmatizer\u001b[0m\u001b[0;34m\u001b[0m\u001b[0;34m\u001b[0m\u001b[0m\n\u001b[1;32m     18\u001b[0m \u001b[0;34m\u001b[0m\u001b[0m\n\u001b[0;32m---> 19\u001b[0;31m \u001b[0;32mfrom\u001b[0m \u001b[0mkeras\u001b[0m\u001b[0;34m.\u001b[0m\u001b[0mpreprocessing\u001b[0m\u001b[0;34m.\u001b[0m\u001b[0mtext\u001b[0m \u001b[0;32mimport\u001b[0m \u001b[0mTokenizer\u001b[0m\u001b[0;34m\u001b[0m\u001b[0;34m\u001b[0m\u001b[0m\n\u001b[0m\u001b[1;32m     20\u001b[0m \u001b[0;32mfrom\u001b[0m \u001b[0mkeras\u001b[0m\u001b[0;34m.\u001b[0m\u001b[0mpreprocessing\u001b[0m\u001b[0;34m.\u001b[0m\u001b[0msequence\u001b[0m \u001b[0;32mimport\u001b[0m \u001b[0mpad_sequences\u001b[0m\u001b[0;34m\u001b[0m\u001b[0;34m\u001b[0m\u001b[0m\n\u001b[1;32m     21\u001b[0m \u001b[0;32mfrom\u001b[0m \u001b[0mkeras\u001b[0m\u001b[0;34m.\u001b[0m\u001b[0mmodels\u001b[0m \u001b[0;32mimport\u001b[0m \u001b[0mSequential\u001b[0m\u001b[0;34m\u001b[0m\u001b[0;34m\u001b[0m\u001b[0m\n",
      "\u001b[0;31mModuleNotFoundError\u001b[0m: No module named 'keras'"
     ]
    }
   ],
   "source": [
    "import pandas as pd\n",
    "import numpy as np\n",
    "import string\n",
    "import re\n",
    "import nltk\n",
    "\n",
    "from sklearn.feature_extraction.text import CountVectorizer\n",
    "from sklearn.naive_bayes import MultinomialNB\n",
    "from sklearn.metrics import confusion_matrix, ConfusionMatrixDisplay\n",
    "from sklearn.metrics import accuracy_score\n",
    "from sklearn.metrics import classification_report\n",
    "from sklearn.model_selection import train_test_split\n",
    "\n",
    "from nltk.tokenize import word_tokenize\n",
    "from nltk.tokenize import TweetTokenizer\n",
    "from nltk.corpus import stopwords\n",
    "from nltk.stem import WordNetLemmatizer\n",
    "\n",
    "from keras.preprocessing.text import Tokenizer\n",
    "from keras.preprocessing.sequence import pad_sequences\n",
    "from keras.models import Sequential\n",
    "from keras.layers import Dense, Embedding, LSTM, SpatialDropout1D, BatchNormalization, Dropout, GlobalMaxPooling1D\n",
    "from keras.utils.np_utils import to_categorical\n",
    "from keras.layers import Conv1D\n",
    "from tensorflow.keras.optimizers import Adam\n",
    "\n",
    "from scipy.sparse import vstack\n",
    "\n",
    "import matplotlib.pyplot as plt\n",
    "\n",
    "nltk.download('punkt')\n",
    "nltk.download('wordnet')\n",
    "nltk.download('stopwords')\n",
    "\n",
    "import warnings\n",
    "warnings.filterwarnings(\"ignore\")"
   ]
  },
  {
   "cell_type": "markdown",
   "id": "6161f9a1",
   "metadata": {
    "id": "6161f9a1"
   },
   "source": [
    "# 1. Load and prepare data"
   ]
  },
  {
   "cell_type": "code",
   "execution_count": 2,
   "id": "kJqtdA77yxUR",
   "metadata": {
    "colab": {
     "base_uri": "https://localhost:8080/"
    },
    "id": "kJqtdA77yxUR",
    "outputId": "6089e3ae-1d6b-44ff-91ca-74d2e318203a"
   },
   "outputs": [
    {
     "ename": "ModuleNotFoundError",
     "evalue": "No module named 'google'",
     "output_type": "error",
     "traceback": [
      "\u001b[0;31m---------------------------------------------------------------------------\u001b[0m",
      "\u001b[0;31mModuleNotFoundError\u001b[0m                       Traceback (most recent call last)",
      "\u001b[0;32m/var/folders/qg/5jpdf6ns1hvdl1lbv9jwcqym0000gn/T/ipykernel_14945/1408506528.py\u001b[0m in \u001b[0;36m<module>\u001b[0;34m\u001b[0m\n\u001b[0;32m----> 1\u001b[0;31m \u001b[0;32mfrom\u001b[0m \u001b[0mgoogle\u001b[0m\u001b[0;34m.\u001b[0m\u001b[0mcolab\u001b[0m \u001b[0;32mimport\u001b[0m \u001b[0mdrive\u001b[0m\u001b[0;34m\u001b[0m\u001b[0;34m\u001b[0m\u001b[0m\n\u001b[0m\u001b[1;32m      2\u001b[0m \u001b[0mdrive\u001b[0m\u001b[0;34m.\u001b[0m\u001b[0mmount\u001b[0m\u001b[0;34m(\u001b[0m\u001b[0;34m'/content/drive'\u001b[0m\u001b[0;34m)\u001b[0m\u001b[0;34m\u001b[0m\u001b[0;34m\u001b[0m\u001b[0m\n",
      "\u001b[0;31mModuleNotFoundError\u001b[0m: No module named 'google'"
     ]
    }
   ],
   "source": [
    "from google.colab import drive\n",
    "drive.mount('/content/drive')"
   ]
  },
  {
   "cell_type": "code",
   "execution_count": 3,
   "id": "93589961",
   "metadata": {
    "id": "93589961"
   },
   "outputs": [
    {
     "ename": "FileNotFoundError",
     "evalue": "[Errno 2] No such file or directory: '/content/drive/MyDrive/s140_train.csv'",
     "output_type": "error",
     "traceback": [
      "\u001b[0;31m---------------------------------------------------------------------------\u001b[0m",
      "\u001b[0;31mFileNotFoundError\u001b[0m                         Traceback (most recent call last)",
      "\u001b[0;32m/var/folders/qg/5jpdf6ns1hvdl1lbv9jwcqym0000gn/T/ipykernel_14945/4046776419.py\u001b[0m in \u001b[0;36m<module>\u001b[0;34m\u001b[0m\n\u001b[1;32m      1\u001b[0m \u001b[0ms140_names\u001b[0m \u001b[0;34m=\u001b[0m \u001b[0;34m[\u001b[0m\u001b[0;34m\"Sentiment\"\u001b[0m\u001b[0;34m,\u001b[0m \u001b[0;34m\"Id\"\u001b[0m\u001b[0;34m,\u001b[0m \u001b[0;34m\"Date\"\u001b[0m\u001b[0;34m,\u001b[0m \u001b[0;34m\"Query\"\u001b[0m\u001b[0;34m,\u001b[0m \u001b[0;34m\"User\"\u001b[0m\u001b[0;34m,\u001b[0m \u001b[0;34m\"Text\"\u001b[0m\u001b[0;34m]\u001b[0m\u001b[0;34m\u001b[0m\u001b[0;34m\u001b[0m\u001b[0m\n\u001b[1;32m      2\u001b[0m \u001b[0;34m\u001b[0m\u001b[0m\n\u001b[0;32m----> 3\u001b[0;31m \u001b[0mdf_s140_train\u001b[0m \u001b[0;34m=\u001b[0m \u001b[0mpd\u001b[0m\u001b[0;34m.\u001b[0m\u001b[0mread_csv\u001b[0m\u001b[0;34m(\u001b[0m\u001b[0;34m\"/content/drive/MyDrive/s140_train.csv\"\u001b[0m\u001b[0;34m,\u001b[0m \u001b[0mnames\u001b[0m\u001b[0;34m=\u001b[0m\u001b[0ms140_names\u001b[0m\u001b[0;34m,\u001b[0m \u001b[0mencoding\u001b[0m\u001b[0;34m=\u001b[0m\u001b[0;34m'latin-1'\u001b[0m\u001b[0;34m)\u001b[0m\u001b[0;34m\u001b[0m\u001b[0;34m\u001b[0m\u001b[0m\n\u001b[0m\u001b[1;32m      4\u001b[0m \u001b[0mdf_s140_test\u001b[0m \u001b[0;34m=\u001b[0m \u001b[0mpd\u001b[0m\u001b[0;34m.\u001b[0m\u001b[0mread_csv\u001b[0m\u001b[0;34m(\u001b[0m\u001b[0;34m\"/content/drive/MyDrive/s140_test.csv\"\u001b[0m\u001b[0;34m,\u001b[0m \u001b[0mnames\u001b[0m\u001b[0;34m=\u001b[0m\u001b[0ms140_names\u001b[0m\u001b[0;34m,\u001b[0m \u001b[0mencoding\u001b[0m\u001b[0;34m=\u001b[0m\u001b[0;34m'latin-1'\u001b[0m\u001b[0;34m)\u001b[0m\u001b[0;34m\u001b[0m\u001b[0;34m\u001b[0m\u001b[0m\n\u001b[1;32m      5\u001b[0m \u001b[0;34m\u001b[0m\u001b[0m\n",
      "\u001b[0;32m~/opt/anaconda3/lib/python3.9/site-packages/pandas/util/_decorators.py\u001b[0m in \u001b[0;36mwrapper\u001b[0;34m(*args, **kwargs)\u001b[0m\n\u001b[1;32m    309\u001b[0m                     \u001b[0mstacklevel\u001b[0m\u001b[0;34m=\u001b[0m\u001b[0mstacklevel\u001b[0m\u001b[0;34m,\u001b[0m\u001b[0;34m\u001b[0m\u001b[0;34m\u001b[0m\u001b[0m\n\u001b[1;32m    310\u001b[0m                 )\n\u001b[0;32m--> 311\u001b[0;31m             \u001b[0;32mreturn\u001b[0m \u001b[0mfunc\u001b[0m\u001b[0;34m(\u001b[0m\u001b[0;34m*\u001b[0m\u001b[0margs\u001b[0m\u001b[0;34m,\u001b[0m \u001b[0;34m**\u001b[0m\u001b[0mkwargs\u001b[0m\u001b[0;34m)\u001b[0m\u001b[0;34m\u001b[0m\u001b[0;34m\u001b[0m\u001b[0m\n\u001b[0m\u001b[1;32m    312\u001b[0m \u001b[0;34m\u001b[0m\u001b[0m\n\u001b[1;32m    313\u001b[0m         \u001b[0;32mreturn\u001b[0m \u001b[0mwrapper\u001b[0m\u001b[0;34m\u001b[0m\u001b[0;34m\u001b[0m\u001b[0m\n",
      "\u001b[0;32m~/opt/anaconda3/lib/python3.9/site-packages/pandas/io/parsers/readers.py\u001b[0m in \u001b[0;36mread_csv\u001b[0;34m(filepath_or_buffer, sep, delimiter, header, names, index_col, usecols, squeeze, prefix, mangle_dupe_cols, dtype, engine, converters, true_values, false_values, skipinitialspace, skiprows, skipfooter, nrows, na_values, keep_default_na, na_filter, verbose, skip_blank_lines, parse_dates, infer_datetime_format, keep_date_col, date_parser, dayfirst, cache_dates, iterator, chunksize, compression, thousands, decimal, lineterminator, quotechar, quoting, doublequote, escapechar, comment, encoding, encoding_errors, dialect, error_bad_lines, warn_bad_lines, on_bad_lines, delim_whitespace, low_memory, memory_map, float_precision, storage_options)\u001b[0m\n\u001b[1;32m    584\u001b[0m     \u001b[0mkwds\u001b[0m\u001b[0;34m.\u001b[0m\u001b[0mupdate\u001b[0m\u001b[0;34m(\u001b[0m\u001b[0mkwds_defaults\u001b[0m\u001b[0;34m)\u001b[0m\u001b[0;34m\u001b[0m\u001b[0;34m\u001b[0m\u001b[0m\n\u001b[1;32m    585\u001b[0m \u001b[0;34m\u001b[0m\u001b[0m\n\u001b[0;32m--> 586\u001b[0;31m     \u001b[0;32mreturn\u001b[0m \u001b[0m_read\u001b[0m\u001b[0;34m(\u001b[0m\u001b[0mfilepath_or_buffer\u001b[0m\u001b[0;34m,\u001b[0m \u001b[0mkwds\u001b[0m\u001b[0;34m)\u001b[0m\u001b[0;34m\u001b[0m\u001b[0;34m\u001b[0m\u001b[0m\n\u001b[0m\u001b[1;32m    587\u001b[0m \u001b[0;34m\u001b[0m\u001b[0m\n\u001b[1;32m    588\u001b[0m \u001b[0;34m\u001b[0m\u001b[0m\n",
      "\u001b[0;32m~/opt/anaconda3/lib/python3.9/site-packages/pandas/io/parsers/readers.py\u001b[0m in \u001b[0;36m_read\u001b[0;34m(filepath_or_buffer, kwds)\u001b[0m\n\u001b[1;32m    480\u001b[0m \u001b[0;34m\u001b[0m\u001b[0m\n\u001b[1;32m    481\u001b[0m     \u001b[0;31m# Create the parser.\u001b[0m\u001b[0;34m\u001b[0m\u001b[0;34m\u001b[0m\u001b[0m\n\u001b[0;32m--> 482\u001b[0;31m     \u001b[0mparser\u001b[0m \u001b[0;34m=\u001b[0m \u001b[0mTextFileReader\u001b[0m\u001b[0;34m(\u001b[0m\u001b[0mfilepath_or_buffer\u001b[0m\u001b[0;34m,\u001b[0m \u001b[0;34m**\u001b[0m\u001b[0mkwds\u001b[0m\u001b[0;34m)\u001b[0m\u001b[0;34m\u001b[0m\u001b[0;34m\u001b[0m\u001b[0m\n\u001b[0m\u001b[1;32m    483\u001b[0m \u001b[0;34m\u001b[0m\u001b[0m\n\u001b[1;32m    484\u001b[0m     \u001b[0;32mif\u001b[0m \u001b[0mchunksize\u001b[0m \u001b[0;32mor\u001b[0m \u001b[0miterator\u001b[0m\u001b[0;34m:\u001b[0m\u001b[0;34m\u001b[0m\u001b[0;34m\u001b[0m\u001b[0m\n",
      "\u001b[0;32m~/opt/anaconda3/lib/python3.9/site-packages/pandas/io/parsers/readers.py\u001b[0m in \u001b[0;36m__init__\u001b[0;34m(self, f, engine, **kwds)\u001b[0m\n\u001b[1;32m    809\u001b[0m             \u001b[0mself\u001b[0m\u001b[0;34m.\u001b[0m\u001b[0moptions\u001b[0m\u001b[0;34m[\u001b[0m\u001b[0;34m\"has_index_names\"\u001b[0m\u001b[0;34m]\u001b[0m \u001b[0;34m=\u001b[0m \u001b[0mkwds\u001b[0m\u001b[0;34m[\u001b[0m\u001b[0;34m\"has_index_names\"\u001b[0m\u001b[0;34m]\u001b[0m\u001b[0;34m\u001b[0m\u001b[0;34m\u001b[0m\u001b[0m\n\u001b[1;32m    810\u001b[0m \u001b[0;34m\u001b[0m\u001b[0m\n\u001b[0;32m--> 811\u001b[0;31m         \u001b[0mself\u001b[0m\u001b[0;34m.\u001b[0m\u001b[0m_engine\u001b[0m \u001b[0;34m=\u001b[0m \u001b[0mself\u001b[0m\u001b[0;34m.\u001b[0m\u001b[0m_make_engine\u001b[0m\u001b[0;34m(\u001b[0m\u001b[0mself\u001b[0m\u001b[0;34m.\u001b[0m\u001b[0mengine\u001b[0m\u001b[0;34m)\u001b[0m\u001b[0;34m\u001b[0m\u001b[0;34m\u001b[0m\u001b[0m\n\u001b[0m\u001b[1;32m    812\u001b[0m \u001b[0;34m\u001b[0m\u001b[0m\n\u001b[1;32m    813\u001b[0m     \u001b[0;32mdef\u001b[0m \u001b[0mclose\u001b[0m\u001b[0;34m(\u001b[0m\u001b[0mself\u001b[0m\u001b[0;34m)\u001b[0m\u001b[0;34m:\u001b[0m\u001b[0;34m\u001b[0m\u001b[0;34m\u001b[0m\u001b[0m\n",
      "\u001b[0;32m~/opt/anaconda3/lib/python3.9/site-packages/pandas/io/parsers/readers.py\u001b[0m in \u001b[0;36m_make_engine\u001b[0;34m(self, engine)\u001b[0m\n\u001b[1;32m   1038\u001b[0m             )\n\u001b[1;32m   1039\u001b[0m         \u001b[0;31m# error: Too many arguments for \"ParserBase\"\u001b[0m\u001b[0;34m\u001b[0m\u001b[0;34m\u001b[0m\u001b[0m\n\u001b[0;32m-> 1040\u001b[0;31m         \u001b[0;32mreturn\u001b[0m \u001b[0mmapping\u001b[0m\u001b[0;34m[\u001b[0m\u001b[0mengine\u001b[0m\u001b[0;34m]\u001b[0m\u001b[0;34m(\u001b[0m\u001b[0mself\u001b[0m\u001b[0;34m.\u001b[0m\u001b[0mf\u001b[0m\u001b[0;34m,\u001b[0m \u001b[0;34m**\u001b[0m\u001b[0mself\u001b[0m\u001b[0;34m.\u001b[0m\u001b[0moptions\u001b[0m\u001b[0;34m)\u001b[0m  \u001b[0;31m# type: ignore[call-arg]\u001b[0m\u001b[0;34m\u001b[0m\u001b[0;34m\u001b[0m\u001b[0m\n\u001b[0m\u001b[1;32m   1041\u001b[0m \u001b[0;34m\u001b[0m\u001b[0m\n\u001b[1;32m   1042\u001b[0m     \u001b[0;32mdef\u001b[0m \u001b[0m_failover_to_python\u001b[0m\u001b[0;34m(\u001b[0m\u001b[0mself\u001b[0m\u001b[0;34m)\u001b[0m\u001b[0;34m:\u001b[0m\u001b[0;34m\u001b[0m\u001b[0;34m\u001b[0m\u001b[0m\n",
      "\u001b[0;32m~/opt/anaconda3/lib/python3.9/site-packages/pandas/io/parsers/c_parser_wrapper.py\u001b[0m in \u001b[0;36m__init__\u001b[0;34m(self, src, **kwds)\u001b[0m\n\u001b[1;32m     49\u001b[0m \u001b[0;34m\u001b[0m\u001b[0m\n\u001b[1;32m     50\u001b[0m         \u001b[0;31m# open handles\u001b[0m\u001b[0;34m\u001b[0m\u001b[0;34m\u001b[0m\u001b[0m\n\u001b[0;32m---> 51\u001b[0;31m         \u001b[0mself\u001b[0m\u001b[0;34m.\u001b[0m\u001b[0m_open_handles\u001b[0m\u001b[0;34m(\u001b[0m\u001b[0msrc\u001b[0m\u001b[0;34m,\u001b[0m \u001b[0mkwds\u001b[0m\u001b[0;34m)\u001b[0m\u001b[0;34m\u001b[0m\u001b[0;34m\u001b[0m\u001b[0m\n\u001b[0m\u001b[1;32m     52\u001b[0m         \u001b[0;32massert\u001b[0m \u001b[0mself\u001b[0m\u001b[0;34m.\u001b[0m\u001b[0mhandles\u001b[0m \u001b[0;32mis\u001b[0m \u001b[0;32mnot\u001b[0m \u001b[0;32mNone\u001b[0m\u001b[0;34m\u001b[0m\u001b[0;34m\u001b[0m\u001b[0m\n\u001b[1;32m     53\u001b[0m \u001b[0;34m\u001b[0m\u001b[0m\n",
      "\u001b[0;32m~/opt/anaconda3/lib/python3.9/site-packages/pandas/io/parsers/base_parser.py\u001b[0m in \u001b[0;36m_open_handles\u001b[0;34m(self, src, kwds)\u001b[0m\n\u001b[1;32m    220\u001b[0m         \u001b[0mLet\u001b[0m \u001b[0mthe\u001b[0m \u001b[0mreaders\u001b[0m \u001b[0mopen\u001b[0m \u001b[0mIOHandles\u001b[0m \u001b[0mafter\u001b[0m \u001b[0mthey\u001b[0m \u001b[0mare\u001b[0m \u001b[0mdone\u001b[0m \u001b[0;32mwith\u001b[0m \u001b[0mtheir\u001b[0m \u001b[0mpotential\u001b[0m \u001b[0mraises\u001b[0m\u001b[0;34m.\u001b[0m\u001b[0;34m\u001b[0m\u001b[0;34m\u001b[0m\u001b[0m\n\u001b[1;32m    221\u001b[0m         \"\"\"\n\u001b[0;32m--> 222\u001b[0;31m         self.handles = get_handle(\n\u001b[0m\u001b[1;32m    223\u001b[0m             \u001b[0msrc\u001b[0m\u001b[0;34m,\u001b[0m\u001b[0;34m\u001b[0m\u001b[0;34m\u001b[0m\u001b[0m\n\u001b[1;32m    224\u001b[0m             \u001b[0;34m\"r\"\u001b[0m\u001b[0;34m,\u001b[0m\u001b[0;34m\u001b[0m\u001b[0;34m\u001b[0m\u001b[0m\n",
      "\u001b[0;32m~/opt/anaconda3/lib/python3.9/site-packages/pandas/io/common.py\u001b[0m in \u001b[0;36mget_handle\u001b[0;34m(path_or_buf, mode, encoding, compression, memory_map, is_text, errors, storage_options)\u001b[0m\n\u001b[1;32m    700\u001b[0m         \u001b[0;32mif\u001b[0m \u001b[0mioargs\u001b[0m\u001b[0;34m.\u001b[0m\u001b[0mencoding\u001b[0m \u001b[0;32mand\u001b[0m \u001b[0;34m\"b\"\u001b[0m \u001b[0;32mnot\u001b[0m \u001b[0;32min\u001b[0m \u001b[0mioargs\u001b[0m\u001b[0;34m.\u001b[0m\u001b[0mmode\u001b[0m\u001b[0;34m:\u001b[0m\u001b[0;34m\u001b[0m\u001b[0;34m\u001b[0m\u001b[0m\n\u001b[1;32m    701\u001b[0m             \u001b[0;31m# Encoding\u001b[0m\u001b[0;34m\u001b[0m\u001b[0;34m\u001b[0m\u001b[0m\n\u001b[0;32m--> 702\u001b[0;31m             handle = open(\n\u001b[0m\u001b[1;32m    703\u001b[0m                 \u001b[0mhandle\u001b[0m\u001b[0;34m,\u001b[0m\u001b[0;34m\u001b[0m\u001b[0;34m\u001b[0m\u001b[0m\n\u001b[1;32m    704\u001b[0m                 \u001b[0mioargs\u001b[0m\u001b[0;34m.\u001b[0m\u001b[0mmode\u001b[0m\u001b[0;34m,\u001b[0m\u001b[0;34m\u001b[0m\u001b[0;34m\u001b[0m\u001b[0m\n",
      "\u001b[0;31mFileNotFoundError\u001b[0m: [Errno 2] No such file or directory: '/content/drive/MyDrive/s140_train.csv'"
     ]
    }
   ],
   "source": [
    "s140_names = [\"Sentiment\", \"Id\", \"Date\", \"Query\", \"User\", \"Text\"]\n",
    "\n",
    "df_s140_train = pd.read_csv(\"/content/drive/MyDrive/s140_train.csv\", names=s140_names, encoding='latin-1')\n",
    "df_s140_test = pd.read_csv(\"/content/drive/MyDrive/s140_test.csv\", names=s140_names, encoding='latin-1')\n",
    "\n",
    "df_rtmr_train = pd.read_csv(\"/content/drive/MyDrive/rtmr_train.tsv\", sep=\"\\t\")\n",
    "df_rtmr_train = df_rtmr_train.rename(columns={\"Phrase\": \"Text\"})\n",
    "df_rtmr_test = pd.read_csv(\"/content/drive/MyDrive/rtmr_test.tsv\", sep=\"\\t\")\n",
    "df_rtmr_test = df_rtmr_test.rename(columns={\"Phrase\": \"Text\"})"
   ]
  },
  {
   "cell_type": "code",
   "execution_count": 4,
   "id": "aac83f01",
   "metadata": {
    "colab": {
     "base_uri": "https://localhost:8080/",
     "height": 206
    },
    "id": "aac83f01",
    "outputId": "6d106ef1-5aef-45d7-c9c4-d44a7e7d8710"
   },
   "outputs": [
    {
     "ename": "NameError",
     "evalue": "name 'df_s140_train' is not defined",
     "output_type": "error",
     "traceback": [
      "\u001b[0;31m---------------------------------------------------------------------------\u001b[0m",
      "\u001b[0;31mNameError\u001b[0m                                 Traceback (most recent call last)",
      "\u001b[0;32m/var/folders/qg/5jpdf6ns1hvdl1lbv9jwcqym0000gn/T/ipykernel_14945/2846778732.py\u001b[0m in \u001b[0;36m<module>\u001b[0;34m\u001b[0m\n\u001b[0;32m----> 1\u001b[0;31m \u001b[0mdf_s140_train\u001b[0m\u001b[0;34m.\u001b[0m\u001b[0mhead\u001b[0m\u001b[0;34m(\u001b[0m\u001b[0;34m)\u001b[0m\u001b[0;34m\u001b[0m\u001b[0;34m\u001b[0m\u001b[0m\n\u001b[0m",
      "\u001b[0;31mNameError\u001b[0m: name 'df_s140_train' is not defined"
     ]
    }
   ],
   "source": [
    "df_s140_train.head()"
   ]
  },
  {
   "cell_type": "code",
   "execution_count": 5,
   "id": "a8772d35",
   "metadata": {
    "colab": {
     "base_uri": "https://localhost:8080/",
     "height": 206
    },
    "id": "a8772d35",
    "outputId": "56ab15af-ab5b-456b-e5a2-1c4a42090c09"
   },
   "outputs": [
    {
     "ename": "NameError",
     "evalue": "name 'df_rtmr_train' is not defined",
     "output_type": "error",
     "traceback": [
      "\u001b[0;31m---------------------------------------------------------------------------\u001b[0m",
      "\u001b[0;31mNameError\u001b[0m                                 Traceback (most recent call last)",
      "\u001b[0;32m/var/folders/qg/5jpdf6ns1hvdl1lbv9jwcqym0000gn/T/ipykernel_14945/687970014.py\u001b[0m in \u001b[0;36m<module>\u001b[0;34m\u001b[0m\n\u001b[0;32m----> 1\u001b[0;31m \u001b[0mdf_rtmr_train\u001b[0m\u001b[0;34m.\u001b[0m\u001b[0mhead\u001b[0m\u001b[0;34m(\u001b[0m\u001b[0;34m)\u001b[0m\u001b[0;34m\u001b[0m\u001b[0;34m\u001b[0m\u001b[0m\n\u001b[0m",
      "\u001b[0;31mNameError\u001b[0m: name 'df_rtmr_train' is not defined"
     ]
    }
   ],
   "source": [
    "df_rtmr_train.head()"
   ]
  },
  {
   "cell_type": "markdown",
   "id": "1c490735",
   "metadata": {
    "id": "1c490735"
   },
   "source": [
    "# 2. Transform input text"
   ]
  },
  {
   "cell_type": "code",
   "execution_count": 6,
   "id": "89405b9c",
   "metadata": {
    "id": "89405b9c"
   },
   "outputs": [],
   "source": [
    "# general preprocessing function\n",
    "\n",
    "def preprocess(text):\n",
    "    tokens = [token for token in word_tokenize(text)]\n",
    "\n",
    "    stops = stopwords.words(\"english\") + list(string.punctuation)\n",
    "    \n",
    "    lemmatizer = WordNetLemmatizer()\n",
    "    \n",
    "    tokens_no_hashtag = [re.sub(r'#', '', token) for token in tokens]\n",
    "    tokens_no_stopwords = [token.lower() for token in tokens_no_hashtag if token.lower() not in stops]\n",
    "    tokens_no_url = [re.sub(r'http\\S+', '', token) for token in tokens_no_stopwords]\n",
    "    tokens_no_url = [re.sub(r'www\\S+', '', token) for token in tokens_no_url]\n",
    "    tokens_no_extra_space = [re.sub(r'\\s\\s+', '', token) for token in tokens_no_url]\n",
    "    tokens_alnum = [token for token in tokens_no_extra_space if token.isalnum()]\n",
    "    tokens_lemma = [lemmatizer.lemmatize(token) for token in tokens_alnum]\n",
    "    tokens_final = [token for token in tokens_lemma if len(token) > 0]\n",
    "    \n",
    "    return tokens_final"
   ]
  },
  {
   "cell_type": "code",
   "execution_count": 7,
   "id": "5d19e6a8",
   "metadata": {
    "id": "5d19e6a8"
   },
   "outputs": [
    {
     "ename": "NameError",
     "evalue": "name 'df_s140_train' is not defined",
     "output_type": "error",
     "traceback": [
      "\u001b[0;31m---------------------------------------------------------------------------\u001b[0m",
      "\u001b[0;31mNameError\u001b[0m                                 Traceback (most recent call last)",
      "\u001b[0;32m/var/folders/qg/5jpdf6ns1hvdl1lbv9jwcqym0000gn/T/ipykernel_14945/2625240197.py\u001b[0m in \u001b[0;36m<module>\u001b[0;34m\u001b[0m\n\u001b[0;32m----> 1\u001b[0;31m \u001b[0mdf_s140_train\u001b[0m\u001b[0;34m[\u001b[0m\u001b[0;34m'Text'\u001b[0m\u001b[0;34m]\u001b[0m \u001b[0;34m=\u001b[0m \u001b[0mdf_s140_train\u001b[0m\u001b[0;34m[\u001b[0m\u001b[0;34m'Text'\u001b[0m\u001b[0;34m]\u001b[0m\u001b[0;34m.\u001b[0m\u001b[0mapply\u001b[0m\u001b[0;34m(\u001b[0m\u001b[0mpreprocess\u001b[0m\u001b[0;34m)\u001b[0m\u001b[0;34m\u001b[0m\u001b[0;34m\u001b[0m\u001b[0m\n\u001b[0m\u001b[1;32m      2\u001b[0m \u001b[0mdf_s140_test\u001b[0m\u001b[0;34m[\u001b[0m\u001b[0;34m'Text'\u001b[0m\u001b[0;34m]\u001b[0m \u001b[0;34m=\u001b[0m \u001b[0mdf_s140_test\u001b[0m\u001b[0;34m[\u001b[0m\u001b[0;34m'Text'\u001b[0m\u001b[0;34m]\u001b[0m\u001b[0;34m.\u001b[0m\u001b[0mapply\u001b[0m\u001b[0;34m(\u001b[0m\u001b[0mpreprocess\u001b[0m\u001b[0;34m)\u001b[0m\u001b[0;34m\u001b[0m\u001b[0;34m\u001b[0m\u001b[0m\n\u001b[1;32m      3\u001b[0m \u001b[0;34m\u001b[0m\u001b[0m\n\u001b[1;32m      4\u001b[0m \u001b[0mdf_rtmr_train\u001b[0m\u001b[0;34m[\u001b[0m\u001b[0;34m'Text'\u001b[0m\u001b[0;34m]\u001b[0m \u001b[0;34m=\u001b[0m \u001b[0mdf_rtmr_train\u001b[0m\u001b[0;34m[\u001b[0m\u001b[0;34m'Text'\u001b[0m\u001b[0;34m]\u001b[0m\u001b[0;34m.\u001b[0m\u001b[0mapply\u001b[0m\u001b[0;34m(\u001b[0m\u001b[0mpreprocess\u001b[0m\u001b[0;34m)\u001b[0m\u001b[0;34m\u001b[0m\u001b[0;34m\u001b[0m\u001b[0m\n\u001b[1;32m      5\u001b[0m \u001b[0mdf_rtmr_test\u001b[0m\u001b[0;34m[\u001b[0m\u001b[0;34m'Text'\u001b[0m\u001b[0;34m]\u001b[0m \u001b[0;34m=\u001b[0m \u001b[0mdf_rtmr_test\u001b[0m\u001b[0;34m[\u001b[0m\u001b[0;34m'Text'\u001b[0m\u001b[0;34m]\u001b[0m\u001b[0;34m.\u001b[0m\u001b[0mapply\u001b[0m\u001b[0;34m(\u001b[0m\u001b[0mpreprocess\u001b[0m\u001b[0;34m)\u001b[0m\u001b[0;34m\u001b[0m\u001b[0;34m\u001b[0m\u001b[0m\n",
      "\u001b[0;31mNameError\u001b[0m: name 'df_s140_train' is not defined"
     ]
    }
   ],
   "source": [
    "df_s140_train['Text'] = df_s140_train['Text'].apply(preprocess)\n",
    "df_s140_test['Text'] = df_s140_test['Text'].apply(preprocess)\n",
    "\n",
    "df_rtmr_train['Text'] = df_rtmr_train['Text'].apply(preprocess)\n",
    "df_rtmr_test['Text'] = df_rtmr_test['Text'].apply(preprocess)"
   ]
  },
  {
   "cell_type": "code",
   "execution_count": 8,
   "id": "8b3bbc6e",
   "metadata": {
    "colab": {
     "base_uri": "https://localhost:8080/",
     "height": 206
    },
    "id": "8b3bbc6e",
    "outputId": "90b2fbab-31bd-4c2c-e697-a499dfdbdd87"
   },
   "outputs": [
    {
     "ename": "NameError",
     "evalue": "name 'df_s140_train' is not defined",
     "output_type": "error",
     "traceback": [
      "\u001b[0;31m---------------------------------------------------------------------------\u001b[0m",
      "\u001b[0;31mNameError\u001b[0m                                 Traceback (most recent call last)",
      "\u001b[0;32m/var/folders/qg/5jpdf6ns1hvdl1lbv9jwcqym0000gn/T/ipykernel_14945/2846778732.py\u001b[0m in \u001b[0;36m<module>\u001b[0;34m\u001b[0m\n\u001b[0;32m----> 1\u001b[0;31m \u001b[0mdf_s140_train\u001b[0m\u001b[0;34m.\u001b[0m\u001b[0mhead\u001b[0m\u001b[0;34m(\u001b[0m\u001b[0;34m)\u001b[0m\u001b[0;34m\u001b[0m\u001b[0;34m\u001b[0m\u001b[0m\n\u001b[0m",
      "\u001b[0;31mNameError\u001b[0m: name 'df_s140_train' is not defined"
     ]
    }
   ],
   "source": [
    "df_s140_train.head()"
   ]
  },
  {
   "cell_type": "code",
   "execution_count": 9,
   "id": "2ef17dd7",
   "metadata": {
    "id": "2ef17dd7",
    "outputId": "9b63b524-094d-4887-96b2-0b395bb40adf"
   },
   "outputs": [
    {
     "ename": "NameError",
     "evalue": "name 'df_rtmr_train' is not defined",
     "output_type": "error",
     "traceback": [
      "\u001b[0;31m---------------------------------------------------------------------------\u001b[0m",
      "\u001b[0;31mNameError\u001b[0m                                 Traceback (most recent call last)",
      "\u001b[0;32m/var/folders/qg/5jpdf6ns1hvdl1lbv9jwcqym0000gn/T/ipykernel_14945/687970014.py\u001b[0m in \u001b[0;36m<module>\u001b[0;34m\u001b[0m\n\u001b[0;32m----> 1\u001b[0;31m \u001b[0mdf_rtmr_train\u001b[0m\u001b[0;34m.\u001b[0m\u001b[0mhead\u001b[0m\u001b[0;34m(\u001b[0m\u001b[0;34m)\u001b[0m\u001b[0;34m\u001b[0m\u001b[0;34m\u001b[0m\u001b[0m\n\u001b[0m",
      "\u001b[0;31mNameError\u001b[0m: name 'df_rtmr_train' is not defined"
     ]
    }
   ],
   "source": [
    "df_rtmr_train.head()"
   ]
  },
  {
   "cell_type": "code",
   "execution_count": 10,
   "id": "5e78a976",
   "metadata": {
    "id": "5e78a976"
   },
   "outputs": [
    {
     "ename": "NameError",
     "evalue": "name 'df_s140_train' is not defined",
     "output_type": "error",
     "traceback": [
      "\u001b[0;31m---------------------------------------------------------------------------\u001b[0m",
      "\u001b[0;31mNameError\u001b[0m                                 Traceback (most recent call last)",
      "\u001b[0;32m/var/folders/qg/5jpdf6ns1hvdl1lbv9jwcqym0000gn/T/ipykernel_14945/343038444.py\u001b[0m in \u001b[0;36m<module>\u001b[0;34m\u001b[0m\n\u001b[0;32m----> 1\u001b[0;31m \u001b[0mdf_s140_train\u001b[0m\u001b[0;34m[\u001b[0m\u001b[0;34m'Text'\u001b[0m\u001b[0;34m]\u001b[0m \u001b[0;34m=\u001b[0m \u001b[0mdf_s140_train\u001b[0m\u001b[0;34m[\u001b[0m\u001b[0;34m'Text'\u001b[0m\u001b[0;34m]\u001b[0m\u001b[0;34m.\u001b[0m\u001b[0mapply\u001b[0m\u001b[0;34m(\u001b[0m\u001b[0;32mlambda\u001b[0m \u001b[0mx\u001b[0m\u001b[0;34m:\u001b[0m\u001b[0;34m' '\u001b[0m\u001b[0;34m.\u001b[0m\u001b[0mjoin\u001b[0m\u001b[0;34m(\u001b[0m\u001b[0mx\u001b[0m\u001b[0;34m)\u001b[0m\u001b[0;34m)\u001b[0m\u001b[0;34m\u001b[0m\u001b[0;34m\u001b[0m\u001b[0m\n\u001b[0m\u001b[1;32m      2\u001b[0m \u001b[0mdf_s140_test\u001b[0m\u001b[0;34m[\u001b[0m\u001b[0;34m'Text'\u001b[0m\u001b[0;34m]\u001b[0m \u001b[0;34m=\u001b[0m \u001b[0mdf_s140_test\u001b[0m\u001b[0;34m[\u001b[0m\u001b[0;34m'Text'\u001b[0m\u001b[0;34m]\u001b[0m\u001b[0;34m.\u001b[0m\u001b[0mapply\u001b[0m\u001b[0;34m(\u001b[0m\u001b[0;32mlambda\u001b[0m \u001b[0mx\u001b[0m\u001b[0;34m:\u001b[0m\u001b[0;34m' '\u001b[0m\u001b[0;34m.\u001b[0m\u001b[0mjoin\u001b[0m\u001b[0;34m(\u001b[0m\u001b[0mx\u001b[0m\u001b[0;34m)\u001b[0m\u001b[0;34m)\u001b[0m\u001b[0;34m\u001b[0m\u001b[0;34m\u001b[0m\u001b[0m\n\u001b[1;32m      3\u001b[0m \u001b[0;34m\u001b[0m\u001b[0m\n\u001b[1;32m      4\u001b[0m \u001b[0mdf_rtmr_train\u001b[0m\u001b[0;34m[\u001b[0m\u001b[0;34m'Text'\u001b[0m\u001b[0;34m]\u001b[0m \u001b[0;34m=\u001b[0m \u001b[0mdf_rtmr_train\u001b[0m\u001b[0;34m[\u001b[0m\u001b[0;34m'Text'\u001b[0m\u001b[0;34m]\u001b[0m\u001b[0;34m.\u001b[0m\u001b[0mapply\u001b[0m\u001b[0;34m(\u001b[0m\u001b[0;32mlambda\u001b[0m \u001b[0mx\u001b[0m\u001b[0;34m:\u001b[0m\u001b[0;34m' '\u001b[0m\u001b[0;34m.\u001b[0m\u001b[0mjoin\u001b[0m\u001b[0;34m(\u001b[0m\u001b[0mx\u001b[0m\u001b[0;34m)\u001b[0m\u001b[0;34m)\u001b[0m\u001b[0;34m\u001b[0m\u001b[0;34m\u001b[0m\u001b[0m\n\u001b[1;32m      5\u001b[0m \u001b[0mdf_rtmr_test\u001b[0m\u001b[0;34m[\u001b[0m\u001b[0;34m'Text'\u001b[0m\u001b[0;34m]\u001b[0m \u001b[0;34m=\u001b[0m \u001b[0mdf_rtmr_test\u001b[0m\u001b[0;34m[\u001b[0m\u001b[0;34m'Text'\u001b[0m\u001b[0;34m]\u001b[0m\u001b[0;34m.\u001b[0m\u001b[0mapply\u001b[0m\u001b[0;34m(\u001b[0m\u001b[0;32mlambda\u001b[0m \u001b[0mx\u001b[0m\u001b[0;34m:\u001b[0m\u001b[0;34m' '\u001b[0m\u001b[0;34m.\u001b[0m\u001b[0mjoin\u001b[0m\u001b[0;34m(\u001b[0m\u001b[0mx\u001b[0m\u001b[0;34m)\u001b[0m\u001b[0;34m)\u001b[0m\u001b[0;34m\u001b[0m\u001b[0;34m\u001b[0m\u001b[0m\n",
      "\u001b[0;31mNameError\u001b[0m: name 'df_s140_train' is not defined"
     ]
    }
   ],
   "source": [
    "df_s140_train['Text'] = df_s140_train['Text'].apply(lambda x:' '.join(x))\n",
    "df_s140_test['Text'] = df_s140_test['Text'].apply(lambda x:' '.join(x))\n",
    "\n",
    "df_rtmr_train['Text'] = df_rtmr_train['Text'].apply(lambda x:' '.join(x))\n",
    "df_rtmr_test['Text'] = df_rtmr_test['Text'].apply(lambda x:' '.join(x))"
   ]
  },
  {
   "cell_type": "markdown",
   "id": "4e2b65c5",
   "metadata": {
    "id": "4e2b65c5"
   },
   "source": [
    "# 3. Metrics"
   ]
  },
  {
   "cell_type": "code",
   "execution_count": 11,
   "id": "cd388287",
   "metadata": {
    "id": "cd388287"
   },
   "outputs": [],
   "source": [
    "def get_metrics(y_pred, y_actual, clf):\n",
    "    acc = accuracy_score(y_actual, y_pred)\n",
    "    print(\"accuracy: {}\".format(acc))\n",
    "    \n",
    "    print(classification_report(y_actual, y_pred))\n",
    "    \n",
    "    cm = confusion_matrix(y_actual, y_pred, labels=clf.classes_)\n",
    "    disp = ConfusionMatrixDisplay(confusion_matrix=cm, display_labels=clf.classes_)\n",
    "    disp.plot()"
   ]
  },
  {
   "cell_type": "markdown",
   "id": "324cdbb1",
   "metadata": {
    "id": "324cdbb1"
   },
   "source": [
    "# 4. Naive Bayes"
   ]
  },
  {
   "cell_type": "code",
   "execution_count": 12,
   "id": "7b078c3d",
   "metadata": {
    "id": "7b078c3d"
   },
   "outputs": [
    {
     "ename": "NameError",
     "evalue": "name 'df_s140_train' is not defined",
     "output_type": "error",
     "traceback": [
      "\u001b[0;31m---------------------------------------------------------------------------\u001b[0m",
      "\u001b[0;31mNameError\u001b[0m                                 Traceback (most recent call last)",
      "\u001b[0;32m/var/folders/qg/5jpdf6ns1hvdl1lbv9jwcqym0000gn/T/ipykernel_14945/3234010636.py\u001b[0m in \u001b[0;36m<module>\u001b[0;34m\u001b[0m\n\u001b[1;32m      2\u001b[0m \u001b[0;34m\u001b[0m\u001b[0m\n\u001b[1;32m      3\u001b[0m \u001b[0mvectorizer\u001b[0m \u001b[0;34m=\u001b[0m \u001b[0mCountVectorizer\u001b[0m\u001b[0;34m(\u001b[0m\u001b[0;34m)\u001b[0m\u001b[0;34m\u001b[0m\u001b[0;34m\u001b[0m\u001b[0m\n\u001b[0;32m----> 4\u001b[0;31m \u001b[0mvectorizer\u001b[0m\u001b[0;34m.\u001b[0m\u001b[0mfit\u001b[0m\u001b[0;34m(\u001b[0m\u001b[0mdf_s140_train\u001b[0m\u001b[0;34m[\u001b[0m\u001b[0;34m'Text'\u001b[0m\u001b[0;34m]\u001b[0m\u001b[0;34m.\u001b[0m\u001b[0mappend\u001b[0m\u001b[0;34m(\u001b[0m\u001b[0mdf_s140_test\u001b[0m\u001b[0;34m[\u001b[0m\u001b[0;34m'Text'\u001b[0m\u001b[0;34m]\u001b[0m\u001b[0;34m)\u001b[0m\u001b[0;34m.\u001b[0m\u001b[0mappend\u001b[0m\u001b[0;34m(\u001b[0m\u001b[0mdf_rtmr_train\u001b[0m\u001b[0;34m[\u001b[0m\u001b[0;34m'Text'\u001b[0m\u001b[0;34m]\u001b[0m\u001b[0;34m)\u001b[0m\u001b[0;34m.\u001b[0m\u001b[0mappend\u001b[0m\u001b[0;34m(\u001b[0m\u001b[0mdf_rtmr_test\u001b[0m\u001b[0;34m[\u001b[0m\u001b[0;34m'Text'\u001b[0m\u001b[0;34m]\u001b[0m\u001b[0;34m)\u001b[0m\u001b[0;34m)\u001b[0m\u001b[0;34m\u001b[0m\u001b[0;34m\u001b[0m\u001b[0m\n\u001b[0m\u001b[1;32m      5\u001b[0m \u001b[0;34m\u001b[0m\u001b[0m\n\u001b[1;32m      6\u001b[0m \u001b[0ms140_train_X\u001b[0m \u001b[0;34m=\u001b[0m \u001b[0mvectorizer\u001b[0m\u001b[0;34m.\u001b[0m\u001b[0mtransform\u001b[0m\u001b[0;34m(\u001b[0m\u001b[0mdf_s140_train\u001b[0m\u001b[0;34m[\u001b[0m\u001b[0;34m'Text'\u001b[0m\u001b[0;34m]\u001b[0m\u001b[0;34m)\u001b[0m\u001b[0;34m\u001b[0m\u001b[0;34m\u001b[0m\u001b[0m\n",
      "\u001b[0;31mNameError\u001b[0m: name 'df_s140_train' is not defined"
     ]
    }
   ],
   "source": [
    "# Vectorization of text for Naive Bayes\n",
    "\n",
    "vectorizer = CountVectorizer()\n",
    "vectorizer.fit(df_s140_train['Text'].append(df_s140_test['Text']).append(df_rtmr_train['Text']).append(df_rtmr_test['Text']))\n",
    "\n",
    "s140_train_X = vectorizer.transform(df_s140_train['Text'])\n",
    "s140_test_X = vectorizer.transform(df_s140_test['Text'])\n",
    "\n",
    "rtmr_train_X = vectorizer.transform(df_rtmr_train['Text'])\n",
    "rtmr_test_X = vectorizer.transform(df_rtmr_test['Text'])"
   ]
  },
  {
   "cell_type": "markdown",
   "id": "7e4e4504",
   "metadata": {
    "id": "7e4e4504"
   },
   "source": [
    "## 4.1. Trained on RTMR and tested on both"
   ]
  },
  {
   "cell_type": "code",
   "execution_count": 13,
   "id": "2133e2c3",
   "metadata": {
    "colab": {
     "base_uri": "https://localhost:8080/"
    },
    "id": "2133e2c3",
    "outputId": "4786ccd4-1a96-4a2d-9db7-3c5dd228a0a0"
   },
   "outputs": [
    {
     "ename": "NameError",
     "evalue": "name 'rtmr_train_X' is not defined",
     "output_type": "error",
     "traceback": [
      "\u001b[0;31m---------------------------------------------------------------------------\u001b[0m",
      "\u001b[0;31mNameError\u001b[0m                                 Traceback (most recent call last)",
      "\u001b[0;32m/var/folders/qg/5jpdf6ns1hvdl1lbv9jwcqym0000gn/T/ipykernel_14945/769295470.py\u001b[0m in \u001b[0;36m<module>\u001b[0;34m\u001b[0m\n\u001b[1;32m      1\u001b[0m \u001b[0;31m# trained on RTMR\u001b[0m\u001b[0;34m\u001b[0m\u001b[0;34m\u001b[0m\u001b[0m\n\u001b[1;32m      2\u001b[0m \u001b[0mnb1\u001b[0m \u001b[0;34m=\u001b[0m \u001b[0mMultinomialNB\u001b[0m\u001b[0;34m(\u001b[0m\u001b[0;34m)\u001b[0m \u001b[0;31m# default smoothing parameter alpha=1\u001b[0m\u001b[0;34m\u001b[0m\u001b[0;34m\u001b[0m\u001b[0m\n\u001b[0;32m----> 3\u001b[0;31m \u001b[0mnb1\u001b[0m\u001b[0;34m.\u001b[0m\u001b[0mfit\u001b[0m\u001b[0;34m(\u001b[0m\u001b[0mrtmr_train_X\u001b[0m\u001b[0;34m,\u001b[0m \u001b[0mdf_rtmr_train\u001b[0m\u001b[0;34m[\u001b[0m\u001b[0;34m\"Sentiment\"\u001b[0m\u001b[0;34m]\u001b[0m\u001b[0;34m)\u001b[0m\u001b[0;34m\u001b[0m\u001b[0;34m\u001b[0m\u001b[0m\n\u001b[0m",
      "\u001b[0;31mNameError\u001b[0m: name 'rtmr_train_X' is not defined"
     ]
    }
   ],
   "source": [
    "# trained on RTMR\n",
    "nb1 = MultinomialNB() # default smoothing parameter alpha=1\n",
    "nb1.fit(rtmr_train_X, df_rtmr_train[\"Sentiment\"])"
   ]
  },
  {
   "cell_type": "code",
   "execution_count": 14,
   "id": "30027fa7",
   "metadata": {
    "id": "30027fa7",
    "outputId": "0e14c274-63c8-407a-ffac-8586bbbaac31"
   },
   "outputs": [
    {
     "ename": "NameError",
     "evalue": "name 's140_test_X' is not defined",
     "output_type": "error",
     "traceback": [
      "\u001b[0;31m---------------------------------------------------------------------------\u001b[0m",
      "\u001b[0;31mNameError\u001b[0m                                 Traceback (most recent call last)",
      "\u001b[0;32m/var/folders/qg/5jpdf6ns1hvdl1lbv9jwcqym0000gn/T/ipykernel_14945/3616848784.py\u001b[0m in \u001b[0;36m<module>\u001b[0;34m\u001b[0m\n\u001b[1;32m      1\u001b[0m \u001b[0;31m# tested on S140\u001b[0m\u001b[0;34m\u001b[0m\u001b[0;34m\u001b[0m\u001b[0m\n\u001b[0;32m----> 2\u001b[0;31m \u001b[0ms140_test_pred\u001b[0m \u001b[0;34m=\u001b[0m \u001b[0mnb1\u001b[0m\u001b[0;34m.\u001b[0m\u001b[0mpredict\u001b[0m\u001b[0;34m(\u001b[0m\u001b[0ms140_test_X\u001b[0m\u001b[0;34m)\u001b[0m\u001b[0;34m\u001b[0m\u001b[0;34m\u001b[0m\u001b[0m\n\u001b[0m\u001b[1;32m      3\u001b[0m \u001b[0ms140_test_actual\u001b[0m \u001b[0;34m=\u001b[0m \u001b[0mdf_s140_test\u001b[0m\u001b[0;34m[\u001b[0m\u001b[0;34m\"Sentiment\"\u001b[0m\u001b[0;34m]\u001b[0m\u001b[0;34m.\u001b[0m\u001b[0mto_numpy\u001b[0m\u001b[0;34m(\u001b[0m\u001b[0;34m)\u001b[0m\u001b[0;34m\u001b[0m\u001b[0;34m\u001b[0m\u001b[0m\n\u001b[1;32m      4\u001b[0m \u001b[0;34m\u001b[0m\u001b[0m\n\u001b[1;32m      5\u001b[0m \u001b[0mget_metrics\u001b[0m\u001b[0;34m(\u001b[0m\u001b[0ms140_test_pred\u001b[0m\u001b[0;34m,\u001b[0m \u001b[0ms140_test_actual\u001b[0m\u001b[0;34m,\u001b[0m \u001b[0mnb1\u001b[0m\u001b[0;34m)\u001b[0m\u001b[0;34m\u001b[0m\u001b[0;34m\u001b[0m\u001b[0m\n",
      "\u001b[0;31mNameError\u001b[0m: name 's140_test_X' is not defined"
     ]
    }
   ],
   "source": [
    "# tested on S140\n",
    "s140_test_pred = nb1.predict(s140_test_X)\n",
    "s140_test_actual = df_s140_test[\"Sentiment\"].to_numpy()\n",
    "\n",
    "get_metrics(s140_test_pred, s140_test_actual, nb1)"
   ]
  },
  {
   "cell_type": "code",
   "execution_count": 15,
   "id": "8c07cbee",
   "metadata": {
    "id": "8c07cbee",
    "outputId": "542a427a-edb7-4f44-cc58-99802be54860"
   },
   "outputs": [
    {
     "ename": "NameError",
     "evalue": "name 'rtmr_test_X' is not defined",
     "output_type": "error",
     "traceback": [
      "\u001b[0;31m---------------------------------------------------------------------------\u001b[0m",
      "\u001b[0;31mNameError\u001b[0m                                 Traceback (most recent call last)",
      "\u001b[0;32m/var/folders/qg/5jpdf6ns1hvdl1lbv9jwcqym0000gn/T/ipykernel_14945/3454653538.py\u001b[0m in \u001b[0;36m<module>\u001b[0;34m\u001b[0m\n\u001b[1;32m      1\u001b[0m \u001b[0;31m# tested on RTMR\u001b[0m\u001b[0;34m\u001b[0m\u001b[0;34m\u001b[0m\u001b[0m\n\u001b[0;32m----> 2\u001b[0;31m \u001b[0mrtmr_test_pred\u001b[0m \u001b[0;34m=\u001b[0m \u001b[0mnb1\u001b[0m\u001b[0;34m.\u001b[0m\u001b[0mpredict\u001b[0m\u001b[0;34m(\u001b[0m\u001b[0mrtmr_test_X\u001b[0m\u001b[0;34m)\u001b[0m\u001b[0;34m\u001b[0m\u001b[0;34m\u001b[0m\u001b[0m\n\u001b[0m\u001b[1;32m      3\u001b[0m \u001b[0mrtmr_test_actual\u001b[0m \u001b[0;34m=\u001b[0m \u001b[0mdf_rtmr_test\u001b[0m\u001b[0;34m[\u001b[0m\u001b[0;34m\"Sentiment\"\u001b[0m\u001b[0;34m]\u001b[0m\u001b[0;34m.\u001b[0m\u001b[0mto_numpy\u001b[0m\u001b[0;34m(\u001b[0m\u001b[0;34m)\u001b[0m\u001b[0;34m\u001b[0m\u001b[0;34m\u001b[0m\u001b[0m\n\u001b[1;32m      4\u001b[0m \u001b[0;34m\u001b[0m\u001b[0m\n\u001b[1;32m      5\u001b[0m \u001b[0mget_metrics\u001b[0m\u001b[0;34m(\u001b[0m\u001b[0mrtmr_test_pred\u001b[0m\u001b[0;34m,\u001b[0m \u001b[0mrtmr_test_actual\u001b[0m\u001b[0;34m,\u001b[0m \u001b[0mnb1\u001b[0m\u001b[0;34m)\u001b[0m\u001b[0;34m\u001b[0m\u001b[0;34m\u001b[0m\u001b[0m\n",
      "\u001b[0;31mNameError\u001b[0m: name 'rtmr_test_X' is not defined"
     ]
    }
   ],
   "source": [
    "# tested on RTMR\n",
    "rtmr_test_pred = nb1.predict(rtmr_test_X)\n",
    "rtmr_test_actual = df_rtmr_test[\"Sentiment\"].to_numpy()\n",
    "\n",
    "get_metrics(rtmr_test_pred, rtmr_test_actual, nb1)"
   ]
  },
  {
   "cell_type": "markdown",
   "id": "cadfccca",
   "metadata": {
    "id": "cadfccca"
   },
   "source": [
    "## 4.2. Trained on S140 and tested on both"
   ]
  },
  {
   "cell_type": "code",
   "execution_count": 25,
   "id": "cdefcc54",
   "metadata": {
    "colab": {
     "base_uri": "https://localhost:8080/"
    },
    "id": "cdefcc54",
    "outputId": "658514a0-44b8-4eaa-c0e3-43c077ab6e59"
   },
   "outputs": [
    {
     "data": {
      "text/plain": [
       "MultinomialNB()"
      ]
     },
     "execution_count": 25,
     "metadata": {},
     "output_type": "execute_result"
    }
   ],
   "source": [
    "# trained on S140\n",
    "nb2 = MultinomialNB() # default smoothing parameter alpha=1\n",
    "nb2.fit(s140_train_X, df_s140_train[\"Sentiment\"])"
   ]
  },
  {
   "cell_type": "code",
   "execution_count": null,
   "id": "3e62b8e7",
   "metadata": {
    "id": "3e62b8e7",
    "outputId": "efff5f0c-a683-40f5-bcb5-85365058a6e3"
   },
   "outputs": [
    {
     "name": "stdout",
     "output_type": "stream",
     "text": [
      "accuracy: 0.5823293172690763\n",
      "              precision    recall  f1-score   support\n",
      "\n",
      "           0       0.67      0.81      0.73       177\n",
      "           2       0.00      0.00      0.00       139\n",
      "           4       0.52      0.80      0.63       182\n",
      "\n",
      "    accuracy                           0.58       498\n",
      "   macro avg       0.40      0.54      0.45       498\n",
      "weighted avg       0.43      0.58      0.49       498\n",
      "\n"
     ]
    },
    {
     "data": {
      "image/png": "[encoded data removed]",
      "text/plain": [
       "<Figure size 432x288 with 2 Axes>"
      ]
     },
     "metadata": {
      "needs_background": "light"
     },
     "output_type": "display_data"
    }
   ],
   "source": [
    "# tested on S140\n",
    "s140_test_pred = nb2.predict(s140_test_X)\n",
    "s140_test_actual = df_s140_test[\"Sentiment\"].to_numpy()\n",
    "\n",
    "get_metrics(s140_test_pred, s140_test_actual, nb2)"
   ]
  },
  {
   "cell_type": "code",
   "execution_count": null,
   "id": "31301194",
   "metadata": {
    "id": "31301194",
    "outputId": "10fd9efb-019b-4cd1-fb05-3356f89d4efb"
   },
   "outputs": [
    {
     "name": "stdout",
     "output_type": "stream",
     "text": [
      "accuracy: 0.0726643598615917\n",
      "              precision    recall  f1-score   support\n",
      "\n",
      "           0       0.07      0.62      0.12       306\n",
      "           1       0.00      0.00      0.00      1400\n",
      "           2       0.00      0.00      0.00      4027\n",
      "           3       0.00      0.00      0.00      1638\n",
      "           4       0.08      0.88      0.14       432\n",
      "\n",
      "    accuracy                           0.07      7803\n",
      "   macro avg       0.03      0.30      0.05      7803\n",
      "weighted avg       0.01      0.07      0.01      7803\n",
      "\n"
     ]
    },
    {
     "data": {
      "image/png": "[encoded data removed]",
      "text/plain": [
       "<Figure size 432x288 with 2 Axes>"
      ]
     },
     "metadata": {
      "needs_background": "light"
     },
     "output_type": "display_data"
    }
   ],
   "source": [
    "# tested on RTMR\n",
    "rtmr_test_pred = nb2.predict(rtmr_test_X)\n",
    "rtmr_test_actual = df_rtmr_test[\"Sentiment\"].to_numpy()\n",
    "\n",
    "get_metrics(rtmr_test_pred, rtmr_test_actual, nb2)"
   ]
  },
  {
   "cell_type": "markdown",
   "id": "f9c078ae",
   "metadata": {
    "id": "f9c078ae"
   },
   "source": [
    "## 4.3. Trained on both and tested on both"
   ]
  },
  {
   "cell_type": "code",
   "execution_count": 26,
   "id": "f46dee8a",
   "metadata": {
    "colab": {
     "base_uri": "https://localhost:8080/"
    },
    "id": "f46dee8a",
    "outputId": "fe12f2c9-3192-406a-c6c1-40655d1fa0ee"
   },
   "outputs": [
    {
     "data": {
      "text/plain": [
       "MultinomialNB()"
      ]
     },
     "execution_count": 26,
     "metadata": {},
     "output_type": "execute_result"
    }
   ],
   "source": [
    "# trained on both\n",
    "nb3 = MultinomialNB() # default smoothing parameter alpha=1\n",
    "all_train_X = vstack([s140_train_X, rtmr_train_X])\n",
    "all_train_y = df_s140_train[\"Sentiment\"].append(df_rtmr_train[\"Sentiment\"])\n",
    "nb3.fit(all_train_X, all_train_y)"
   ]
  },
  {
   "cell_type": "code",
   "execution_count": null,
   "id": "f029a3a7",
   "metadata": {
    "id": "f029a3a7",
    "outputId": "1c0772ce-a31d-4745-a9d5-c7d1ba23e225"
   },
   "outputs": [
    {
     "name": "stdout",
     "output_type": "stream",
     "text": [
      "accuracy: 0.5783132530120482\n",
      "              precision    recall  f1-score   support\n",
      "\n",
      "           0       0.67      0.80      0.73       177\n",
      "           2       0.00      0.00      0.00       139\n",
      "           4       0.52      0.80      0.63       182\n",
      "\n",
      "    accuracy                           0.58       498\n",
      "   macro avg       0.39      0.53      0.45       498\n",
      "weighted avg       0.43      0.58      0.49       498\n",
      "\n"
     ]
    },
    {
     "data": {
      "image/png": "[encoded data removed]",
      "text/plain": [
       "<Figure size 432x288 with 2 Axes>"
      ]
     },
     "metadata": {
      "needs_background": "light"
     },
     "output_type": "display_data"
    }
   ],
   "source": [
    "# tested on S140\n",
    "s140_test_pred = nb3.predict(s140_test_X)\n",
    "s140_test_actual = df_s140_test[\"Sentiment\"].to_numpy()\n",
    "\n",
    "get_metrics(s140_test_pred, s140_test_actual, nb3)"
   ]
  },
  {
   "cell_type": "code",
   "execution_count": null,
   "id": "2433ee7e",
   "metadata": {
    "id": "2433ee7e",
    "outputId": "f7da0bc6-34a3-434a-e03f-e8553f763ec9"
   },
   "outputs": [
    {
     "name": "stdout",
     "output_type": "stream",
     "text": [
      "accuracy: 0.22837370242214533\n",
      "              precision    recall  f1-score   support\n",
      "\n",
      "           0       0.08      0.50      0.13       306\n",
      "           1       0.51      0.07      0.12      1400\n",
      "           2       0.54      0.27      0.36      4027\n",
      "           3       0.52      0.13      0.21      1638\n",
      "           4       0.07      0.55      0.13       432\n",
      "\n",
      "    accuracy                           0.23      7803\n",
      "   macro avg       0.34      0.30      0.19      7803\n",
      "weighted avg       0.48      0.23      0.26      7803\n",
      "\n"
     ]
    },
    {
     "data": {
      "image/png": "[encoded data removed]",
      "text/plain": [
       "<Figure size 432x288 with 2 Axes>"
      ]
     },
     "metadata": {
      "needs_background": "light"
     },
     "output_type": "display_data"
    }
   ],
   "source": [
    "# tested on RTMR\n",
    "rtmr_test_pred = nb3.predict(rtmr_test_X)\n",
    "rtmr_test_actual = df_rtmr_test[\"Sentiment\"].to_numpy()\n",
    "\n",
    "get_metrics(rtmr_test_pred, rtmr_test_actual, nb3)"
   ]
  },
  {
   "cell_type": "markdown",
   "id": "3cde6261",
   "metadata": {
    "id": "3cde6261"
   },
   "source": [
    "# 5. CNN"
   ]
  },
  {
   "cell_type": "markdown",
   "id": "sQNUdftheZPZ",
   "metadata": {
    "id": "sQNUdftheZPZ"
   },
   "source": [
    "## 5.1 Transform text to sequence"
   ]
  },
  {
   "cell_type": "code",
   "execution_count": 6,
   "id": "GvJNVs2SSCey",
   "metadata": {
    "id": "GvJNVs2SSCey"
   },
   "outputs": [],
   "source": [
    "# Vectorization of text for CNN\n",
    "\n",
    "max_features = 2000\n",
    "tokenizer = Tokenizer(num_words=max_features, split=' ')\n",
    "\n",
    "s140_train_n = df_s140_train.shape[0]\n",
    "s140_test_n = df_s140_test.shape[0]\n",
    "rtmr_train_n = df_rtmr_train.shape[0]\n",
    "rtmr_test_n = df_rtmr_test.shape[0]\n",
    "\n",
    "all_text = df_s140_train['Text'].append(df_s140_test['Text']).append(df_rtmr_train['Text']).append(df_rtmr_test['Text'])\n",
    "\n",
    "tokenizer.fit_on_texts(all_text.values)\n",
    "X = tokenizer.texts_to_sequences(all_text.values)\n",
    "X = pad_sequences(X)\n",
    "\n",
    "s140_train_X = X[:s140_train_n, :]\n",
    "s140_test_X = X[s140_train_n:(s140_train_n+s140_test_n), :]\n",
    "rtmr_train_X = X[(s140_train_n+s140_test_n):(s140_train_n+s140_test_n+rtmr_train_n), :]\n",
    "rtmr_test_X = X[(s140_train_n+s140_test_n+rtmr_train_n):, :]"
   ]
  },
  {
   "cell_type": "code",
   "execution_count": 7,
   "id": "dvxrDW8DSDb2",
   "metadata": {
    "id": "dvxrDW8DSDb2"
   },
   "outputs": [],
   "source": [
    "# Encode labels(sentiment values) using one hot encoding\n",
    "\n",
    "all_y = df_s140_train['Sentiment'].append(df_s140_test['Sentiment']).append(df_rtmr_train['Sentiment']).append(df_rtmr_test['Sentiment'])\n",
    "\n",
    "all_y_dummies = pd.get_dummies(all_y).values\n",
    "\n",
    "s140_train_y = all_y_dummies[:s140_train_n, :]\n",
    "s140_test_y = all_y_dummies[s140_train_n:(s140_train_n+s140_test_n), :]\n",
    "rtmr_train_y = all_y_dummies[(s140_train_n+s140_test_n):(s140_train_n+s140_test_n+rtmr_train_n), :]\n",
    "rtmr_test_y = all_y_dummies[(s140_train_n+s140_test_n+rtmr_train_n):, :]"
   ]
  },
  {
   "cell_type": "markdown",
   "id": "7OpJQtdxei5B",
   "metadata": {
    "id": "7OpJQtdxei5B"
   },
   "source": [
    "## 5.2 Build CNN model"
   ]
  },
  {
   "cell_type": "code",
   "execution_count": 8,
   "id": "XaRBwXGRSE5c",
   "metadata": {
    "colab": {
     "base_uri": "https://localhost:8080/"
    },
    "id": "XaRBwXGRSE5c",
    "outputId": "c45a16bc-c6b1-4b7f-8e92-616a8352e028"
   },
   "outputs": [
    {
     "name": "stdout",
     "output_type": "stream",
     "text": [
      "Model: \"sequential\"\n",
      "_________________________________________________________________\n",
      " Layer (type)                Output Shape              Param #   \n",
      "=================================================================\n",
      " embedding (Embedding)       (None, 48, 100)           200000    \n",
      "                                                                 \n",
      " conv1d (Conv1D)             (None, 46, 1024)          308224    \n",
      "                                                                 \n",
      " global_max_pooling1d (Globa  (None, 1024)             0         \n",
      " lMaxPooling1D)                                                  \n",
      "                                                                 \n",
      " dropout (Dropout)           (None, 1024)              0         \n",
      "                                                                 \n",
      " batch_normalization (BatchN  (None, 1024)             4096      \n",
      " ormalization)                                                   \n",
      "                                                                 \n",
      " dropout_1 (Dropout)         (None, 1024)              0         \n",
      "                                                                 \n",
      " dense (Dense)               (None, 2048)              2099200   \n",
      "                                                                 \n",
      " dropout_2 (Dropout)         (None, 2048)              0         \n",
      "                                                                 \n",
      " batch_normalization_1 (Batc  (None, 2048)             8192      \n",
      " hNormalization)                                                 \n",
      "                                                                 \n",
      " dropout_3 (Dropout)         (None, 2048)              0         \n",
      "                                                                 \n",
      " dense_1 (Dense)             (None, 5)                 10245     \n",
      "                                                                 \n",
      "=================================================================\n",
      "Total params: 2,629,957\n",
      "Trainable params: 2,623,813\n",
      "Non-trainable params: 6,144\n",
      "_________________________________________________________________\n",
      "None\n"
     ]
    }
   ],
   "source": [
    "model_CNN = Sequential()\n",
    "model_CNN.add(Embedding(max_features, 100, input_length=rtmr_train_X.shape[1]))\n",
    "model_CNN.add(Conv1D(1024, 3, padding='valid', activation='relu', strides=1))\n",
    "model_CNN.add(GlobalMaxPooling1D())\n",
    "model_CNN.add(Dropout(0.5))\n",
    "model_CNN.add(BatchNormalization())\n",
    "model_CNN.add(Dropout(0.5))\n",
    "model_CNN.add(Dense(2048, activation='relu'))\n",
    "model_CNN.add(Dropout(0.5))\n",
    "model_CNN.add(BatchNormalization())\n",
    "model_CNN.add(Dropout(0.5))\n",
    "model_CNN.add(Dense(5, activation='softmax'))\n",
    "\n",
    "loss = 'categorical_crossentropy'\n",
    "metrics = ['accuracy']\n",
    "learning_rate = 0.001\n",
    "optimizer = Adam(learning_rate)\n",
    "model_CNN.compile(optimizer=optimizer, loss=loss, metrics=metrics)\n",
    "\n",
    "print(model_CNN.summary())"
   ]
  },
  {
   "cell_type": "markdown",
   "id": "h_83IyQReNbP",
   "metadata": {
    "id": "h_83IyQReNbP"
   },
   "source": [
    "## 5.3 Trained on RTMR"
   ]
  },
  {
   "cell_type": "code",
   "execution_count": 9,
   "id": "Y8LB_y7XdIe2",
   "metadata": {
    "colab": {
     "base_uri": "https://localhost:8080/"
    },
    "id": "Y8LB_y7XdIe2",
    "outputId": "e3a0a156-5866-4040-bf9b-4d5c332ba2f1"
   },
   "outputs": [
    {
     "name": "stdout",
     "output_type": "stream",
     "text": [
      "Epoch 1/20\n",
      "2500/2500 - 41s - loss: 1.5250 - accuracy: 0.4573 - val_loss: 1.1840 - val_accuracy: 0.5450 - 41s/epoch - 17ms/step\n",
      "Epoch 2/20\n",
      "2500/2500 - 30s - loss: 1.3216 - accuracy: 0.5061 - val_loss: 1.1688 - val_accuracy: 0.5496 - 30s/epoch - 12ms/step\n",
      "Epoch 3/20\n",
      "2500/2500 - 30s - loss: 1.2638 - accuracy: 0.5194 - val_loss: 1.1572 - val_accuracy: 0.5484 - 30s/epoch - 12ms/step\n",
      "Epoch 4/20\n",
      "2500/2500 - 29s - loss: 1.2195 - accuracy: 0.5331 - val_loss: 1.1385 - val_accuracy: 0.5602 - 29s/epoch - 12ms/step\n",
      "Epoch 5/20\n",
      "2500/2500 - 30s - loss: 1.1805 - accuracy: 0.5433 - val_loss: 1.1544 - val_accuracy: 0.5543 - 30s/epoch - 12ms/step\n",
      "Epoch 6/20\n",
      "2500/2500 - 30s - loss: 1.1490 - accuracy: 0.5544 - val_loss: 1.1284 - val_accuracy: 0.5617 - 30s/epoch - 12ms/step\n",
      "Epoch 7/20\n",
      "2500/2500 - 30s - loss: 1.1230 - accuracy: 0.5630 - val_loss: 1.1291 - val_accuracy: 0.5620 - 30s/epoch - 12ms/step\n",
      "Epoch 8/20\n",
      "2500/2500 - 30s - loss: 1.1033 - accuracy: 0.5701 - val_loss: 1.1194 - val_accuracy: 0.5665 - 30s/epoch - 12ms/step\n",
      "Epoch 9/20\n",
      "2500/2500 - 30s - loss: 1.0886 - accuracy: 0.5739 - val_loss: 1.1164 - val_accuracy: 0.5690 - 30s/epoch - 12ms/step\n",
      "Epoch 10/20\n",
      "2500/2500 - 30s - loss: 1.0785 - accuracy: 0.5774 - val_loss: 1.1141 - val_accuracy: 0.5684 - 30s/epoch - 12ms/step\n",
      "Epoch 11/20\n",
      "2500/2500 - 30s - loss: 1.0682 - accuracy: 0.5828 - val_loss: 1.1224 - val_accuracy: 0.5681 - 30s/epoch - 12ms/step\n",
      "Epoch 12/20\n",
      "2500/2500 - 29s - loss: 1.0610 - accuracy: 0.5857 - val_loss: 1.1148 - val_accuracy: 0.5678 - 29s/epoch - 12ms/step\n",
      "Epoch 13/20\n",
      "2500/2500 - 30s - loss: 1.0573 - accuracy: 0.5869 - val_loss: 1.1130 - val_accuracy: 0.5720 - 30s/epoch - 12ms/step\n",
      "Epoch 14/20\n",
      "2500/2500 - 29s - loss: 1.0495 - accuracy: 0.5898 - val_loss: 1.1155 - val_accuracy: 0.5723 - 29s/epoch - 12ms/step\n",
      "Epoch 15/20\n",
      "2500/2500 - 30s - loss: 1.0464 - accuracy: 0.5916 - val_loss: 1.1096 - val_accuracy: 0.5706 - 30s/epoch - 12ms/step\n",
      "Epoch 16/20\n",
      "2500/2500 - 30s - loss: 1.0408 - accuracy: 0.5959 - val_loss: 1.1378 - val_accuracy: 0.5666 - 30s/epoch - 12ms/step\n",
      "Epoch 17/20\n",
      "2500/2500 - 30s - loss: 1.0374 - accuracy: 0.5969 - val_loss: 1.1289 - val_accuracy: 0.5703 - 30s/epoch - 12ms/step\n",
      "Epoch 18/20\n",
      "2500/2500 - 30s - loss: 1.0335 - accuracy: 0.5998 - val_loss: 1.1190 - val_accuracy: 0.5713 - 30s/epoch - 12ms/step\n",
      "Epoch 19/20\n",
      "2500/2500 - 29s - loss: 1.0313 - accuracy: 0.5993 - val_loss: 1.1266 - val_accuracy: 0.5698 - 29s/epoch - 12ms/step\n",
      "Epoch 20/20\n",
      "2500/2500 - 29s - loss: 1.0271 - accuracy: 0.5999 - val_loss: 1.1320 - val_accuracy: 0.5715 - 29s/epoch - 12ms/step\n"
     ]
    }
   ],
   "source": [
    "batch_size=32\n",
    "\n",
    "history = model_CNN.fit(\n",
    "    rtmr_train_X[:100000,:], \n",
    "    rtmr_train_y[:100000,:],\n",
    "    batch_size=batch_size,\n",
    "    epochs=20,\n",
    "    verbose=2,\n",
    "    validation_split=0.2\n",
    "    )"
   ]
  },
  {
   "cell_type": "markdown",
   "id": "f2-f_dglepk1",
   "metadata": {
    "id": "f2-f_dglepk1"
   },
   "source": [
    "## 5.4 Tested on RTMR"
   ]
  },
  {
   "cell_type": "code",
   "execution_count": 17,
   "id": "MCmLNLsR7v1J",
   "metadata": {
    "colab": {
     "base_uri": "https://localhost:8080/",
     "height": 585
    },
    "id": "MCmLNLsR7v1J",
    "outputId": "3b6bc863-05d7-46e8-e421-7d2702387fd9"
   },
   "outputs": [
    {
     "name": "stdout",
     "output_type": "stream",
     "text": [
      "244/244 - 1s - loss: 1.1195 - accuracy: 0.5786 - 1s/epoch - 6ms/step\n",
      "\n",
      " accuracy: 0.5786235928535461 \n",
      "\n",
      "              precision    recall  f1-score   support\n",
      "\n",
      "           0       0.35      0.24      0.29       306\n",
      "           1       0.49      0.27      0.35      1400\n",
      "           2       0.61      0.87      0.72      4027\n",
      "           3       0.51      0.28      0.36      1638\n",
      "           4       0.44      0.19      0.27       432\n",
      "\n",
      "    accuracy                           0.58      7803\n",
      "   macro avg       0.48      0.37      0.40      7803\n",
      "weighted avg       0.55      0.58      0.54      7803\n",
      "\n"
     ]
    },
    {
     "data": {
      "text/plain": [
       "<sklearn.metrics._plot.confusion_matrix.ConfusionMatrixDisplay at 0x7fafdd100d50>"
      ]
     },
     "execution_count": 17,
     "metadata": {},
     "output_type": "execute_result"
    },
    {
     "data": {
      "image/png": "[encoded data removed]",
      "text/plain": [
       "<Figure size 432x288 with 2 Axes>"
      ]
     },
     "metadata": {
      "needs_background": "light"
     },
     "output_type": "display_data"
    }
   ],
   "source": [
    "loss, acc = model_CNN.evaluate(rtmr_test_X, rtmr_test_y, verbose=2, batch_size=batch_size)\n",
    "\n",
    "rtmr_test_y_predict = model_CNN.predict(rtmr_test_X) \n",
    "rtmr_test_y_predict = np.argmax(rtmr_test_y_predict, axis=1)\n",
    "rtmr_test_y_true = [row.index(1) for row in rtmr_test_y.tolist()]\n",
    "\n",
    "print(\"\\n accuracy: {} \\n\".format(acc))\n",
    "    \n",
    "print(classification_report(rtmr_test_y_true, rtmr_test_y_predict))\n",
    "\n",
    "cm = confusion_matrix(rtmr_test_y_true, rtmr_test_y_predict)\n",
    "disp = ConfusionMatrixDisplay(confusion_matrix=cm)\n",
    "disp.plot()"
   ]
  },
  {
   "cell_type": "markdown",
   "id": "nDJZlqXwezDD",
   "metadata": {
    "id": "nDJZlqXwezDD"
   },
   "source": [
    "## 5.5 Tested on S140"
   ]
  },
  {
   "cell_type": "code",
   "execution_count": 18,
   "id": "M42VWz-s_Kk5",
   "metadata": {
    "colab": {
     "base_uri": "https://localhost:8080/",
     "height": 582
    },
    "id": "M42VWz-s_Kk5",
    "outputId": "4870a081-22cb-406c-c717-3dd15c406082"
   },
   "outputs": [
    {
     "name": "stdout",
     "output_type": "stream",
     "text": [
      "16/16 - 0s - loss: 3.0997 - accuracy: 0.2570 - 114ms/epoch - 7ms/step\n",
      "\n",
      " accuracy: 0.25702810287475586 \n",
      "\n",
      "              precision    recall  f1-score   support\n",
      "\n",
      "           0       0.57      0.16      0.25       177\n",
      "           1       0.00      0.00      0.00         0\n",
      "           2       0.41      0.53      0.46       139\n",
      "           3       0.00      0.00      0.00         0\n",
      "           4       0.68      0.15      0.24       182\n",
      "\n",
      "    accuracy                           0.26       498\n",
      "   macro avg       0.33      0.17      0.19       498\n",
      "weighted avg       0.56      0.26      0.31       498\n",
      "\n"
     ]
    },
    {
     "data": {
      "text/plain": [
       "<sklearn.metrics._plot.confusion_matrix.ConfusionMatrixDisplay at 0x7fafdff486d0>"
      ]
     },
     "execution_count": 18,
     "metadata": {},
     "output_type": "execute_result"
    },
    {
     "data": {
      "image/png": "[encoded data removed]",
      "text/plain": [
       "<Figure size 432x288 with 2 Axes>"
      ]
     },
     "metadata": {
      "needs_background": "light"
     },
     "output_type": "display_data"
    }
   ],
   "source": [
    "loss, acc = model_CNN.evaluate(s140_test_X, s140_test_y, verbose=2, batch_size=batch_size)\n",
    "\n",
    "s140_test_y_predict = model_CNN.predict(s140_test_X) \n",
    "s140_test_y_predict = np.argmax(s140_test_y_predict, axis=1)\n",
    "s140_test_y_true = [row.index(1) for row in s140_test_y.tolist()]\n",
    "\n",
    "print(\"\\n accuracy: {} \\n\".format(acc))\n",
    "    \n",
    "print(classification_report(s140_test_y_true, s140_test_y_predict))\n",
    "\n",
    "cm = confusion_matrix(s140_test_y_true, s140_test_y_predict)\n",
    "disp = ConfusionMatrixDisplay(confusion_matrix=cm)\n",
    "disp.plot()"
   ]
  },
  {
   "cell_type": "markdown",
   "id": "b94efa91",
   "metadata": {
    "id": "b94efa91"
   },
   "source": [
    "# 6. LSTM"
   ]
  },
  {
   "cell_type": "markdown",
   "id": "h1CoPHAhe3y5",
   "metadata": {
    "id": "h1CoPHAhe3y5"
   },
   "source": [
    "## 6.1 Transform text to sequence"
   ]
  },
  {
   "cell_type": "code",
   "execution_count": null,
   "id": "Nx5Hha7Y1ojp",
   "metadata": {
    "id": "Nx5Hha7Y1ojp"
   },
   "outputs": [],
   "source": [
    "# Vectorization of text for LSTM\n",
    "\n",
    "max_features = 2000\n",
    "tokenizer = Tokenizer(num_words=max_features, split=' ')\n",
    "\n",
    "s140_train_n = df_s140_train.shape[0]\n",
    "s140_test_n = df_s140_test.shape[0]\n",
    "rtmr_train_n = df_rtmr_train.shape[0]\n",
    "rtmr_test_n = df_rtmr_test.shape[0]\n",
    "\n",
    "all_text = df_s140_train['Text'].append(df_s140_test['Text']).append(df_rtmr_train['Text']).append(df_rtmr_test['Text'])\n",
    "\n",
    "tokenizer.fit_on_texts(all_text.values)\n",
    "X = tokenizer.texts_to_sequences(all_text.values)\n",
    "X = pad_sequences(X)\n",
    "\n",
    "s140_train_X = X[:s140_train_n, :]\n",
    "s140_test_X = X[s140_train_n:(s140_train_n+s140_test_n), :]\n",
    "rtmr_train_X = X[(s140_train_n+s140_test_n):(s140_train_n+s140_test_n+rtmr_train_n), :]\n",
    "rtmr_test_X = X[(s140_train_n+s140_test_n+rtmr_train_n):, :]"
   ]
  },
  {
   "cell_type": "code",
   "execution_count": null,
   "id": "lmEj7VrO4o66",
   "metadata": {
    "id": "lmEj7VrO4o66"
   },
   "outputs": [],
   "source": [
    "# Encode labels(sentiment values) using one hot encoding\n",
    "\n",
    "all_y = df_s140_train['Sentiment'].append(df_s140_test['Sentiment']).append(df_rtmr_train['Sentiment']).append(df_rtmr_test['Sentiment'])\n",
    "\n",
    "all_y_dummies = pd.get_dummies(all_y).values\n",
    "\n",
    "s140_train_y = all_y_dummies[:s140_train_n, :]\n",
    "s140_test_y = all_y_dummies[s140_train_n:(s140_train_n+s140_test_n), :]\n",
    "rtmr_train_y = all_y_dummies[(s140_train_n+s140_test_n):(s140_train_n+s140_test_n+rtmr_train_n), :]\n",
    "rtmr_test_y = all_y_dummies[(s140_train_n+s140_test_n+rtmr_train_n):, :]"
   ]
  },
  {
   "cell_type": "markdown",
   "id": "94tPJNH9e6GK",
   "metadata": {
    "id": "94tPJNH9e6GK"
   },
   "source": [
    "## 6.2 Build LSTM model"
   ]
  },
  {
   "cell_type": "code",
   "execution_count": 12,
   "id": "e6c8749b",
   "metadata": {
    "colab": {
     "base_uri": "https://localhost:8080/"
    },
    "id": "e6c8749b",
    "outputId": "5dda517c-d4f3-47d4-82f7-0e7a765b6adb"
   },
   "outputs": [
    {
     "name": "stdout",
     "output_type": "stream",
     "text": [
      "WARNING:tensorflow:Layer lstm will not use cuDNN kernels since it doesn't meet the criteria. It will use a generic GPU kernel as fallback when running on GPU.\n",
      "Model: \"sequential_1\"\n",
      "_________________________________________________________________\n",
      " Layer (type)                Output Shape              Param #   \n",
      "=================================================================\n",
      " embedding_1 (Embedding)     (None, 48, 128)           256000    \n",
      "                                                                 \n",
      " spatial_dropout1d (SpatialD  (None, 48, 128)          0         \n",
      " ropout1D)                                                       \n",
      "                                                                 \n",
      " lstm (LSTM)                 (None, 196)               254800    \n",
      "                                                                 \n",
      " dense_2 (Dense)             (None, 5)                 985       \n",
      "                                                                 \n",
      "=================================================================\n",
      "Total params: 511,785\n",
      "Trainable params: 511,785\n",
      "Non-trainable params: 0\n",
      "_________________________________________________________________\n",
      "None\n"
     ]
    }
   ],
   "source": [
    "embed_dim = 128\n",
    "lstm_out = 196\n",
    "\n",
    "model_LSTM = Sequential()\n",
    "model_LSTM.add(Embedding(max_features, embed_dim, input_length = rtmr_train_X.shape[1]))\n",
    "model_LSTM.add(SpatialDropout1D(0.4))\n",
    "model_LSTM.add(LSTM(lstm_out, dropout=0.2, recurrent_dropout=0.2))\n",
    "model_LSTM.add(Dense(5, activation='softmax'))\n",
    "model_LSTM.compile(loss = 'categorical_crossentropy', optimizer='adam',metrics = ['accuracy'])\n",
    "print(model_LSTM.summary())"
   ]
  },
  {
   "cell_type": "markdown",
   "id": "E2TCbR3Ze-fJ",
   "metadata": {
    "id": "E2TCbR3Ze-fJ"
   },
   "source": [
    "## 6.3 Trained on RTMR"
   ]
  },
  {
   "cell_type": "code",
   "execution_count": 14,
   "id": "s3UGsb0r5NeI",
   "metadata": {
    "colab": {
     "base_uri": "https://localhost:8080/"
    },
    "id": "s3UGsb0r5NeI",
    "outputId": "a6703d3d-e754-4ea7-dd3d-359711b5feb5"
   },
   "outputs": [
    {
     "name": "stdout",
     "output_type": "stream",
     "text": [
      "Epoch 1/10\n",
      "313/313 - 133s - loss: 1.1109 - accuracy: 0.5766 - 133s/epoch - 424ms/step\n",
      "Epoch 2/10\n",
      "313/313 - 109s - loss: 1.0601 - accuracy: 0.5919 - 109s/epoch - 348ms/step\n",
      "Epoch 3/10\n",
      "313/313 - 108s - loss: 1.0260 - accuracy: 0.6087 - 108s/epoch - 347ms/step\n",
      "Epoch 4/10\n",
      "313/313 - 108s - loss: 0.9989 - accuracy: 0.6223 - 108s/epoch - 346ms/step\n",
      "Epoch 5/10\n",
      "313/313 - 148s - loss: 0.9735 - accuracy: 0.6326 - 148s/epoch - 472ms/step\n",
      "Epoch 6/10\n",
      "313/313 - 117s - loss: 0.9524 - accuracy: 0.6400 - 117s/epoch - 374ms/step\n",
      "Epoch 7/10\n",
      "313/313 - 109s - loss: 0.9343 - accuracy: 0.6449 - 109s/epoch - 349ms/step\n",
      "Epoch 8/10\n",
      "313/313 - 108s - loss: 0.9144 - accuracy: 0.6545 - 108s/epoch - 344ms/step\n",
      "Epoch 9/10\n",
      "313/313 - 108s - loss: 0.9022 - accuracy: 0.6628 - 108s/epoch - 344ms/step\n",
      "Epoch 10/10\n",
      "313/313 - 111s - loss: 0.8856 - accuracy: 0.6662 - 111s/epoch - 356ms/step\n"
     ]
    },
    {
     "data": {
      "text/plain": [
       "<keras.callbacks.History at 0x7fafe03cc690>"
      ]
     },
     "execution_count": 14,
     "metadata": {},
     "output_type": "execute_result"
    }
   ],
   "source": [
    "batch_size = 32\n",
    "model_LSTM.fit(rtmr_train_X[:10000,:], rtmr_train_y[:10000,:], epochs=10, batch_size=batch_size, verbose=2)"
   ]
  },
  {
   "cell_type": "markdown",
   "id": "nvZqpFoAfDOV",
   "metadata": {
    "id": "nvZqpFoAfDOV"
   },
   "source": [
    "## 6.4 Tested on RTMR"
   ]
  },
  {
   "cell_type": "code",
   "execution_count": 19,
   "id": "CtDYgQinfSxv",
   "metadata": {
    "colab": {
     "base_uri": "https://localhost:8080/",
     "height": 582
    },
    "id": "CtDYgQinfSxv",
    "outputId": "86f299dd-e639-4b0d-bc2f-cbf404f67b56"
   },
   "outputs": [
    {
     "name": "stdout",
     "output_type": "stream",
     "text": [
      "244/244 - 11s - loss: 1.3729 - accuracy: 0.5258 - 11s/epoch - 44ms/step\n",
      "\n",
      " accuracy: 0.5258234143257141 \n",
      "\n",
      "              precision    recall  f1-score   support\n",
      "\n",
      "           0       0.29      0.16      0.20       306\n",
      "           1       0.38      0.22      0.28      1400\n",
      "           2       0.60      0.79      0.68      4027\n",
      "           3       0.38      0.30      0.34      1638\n",
      "           4       0.31      0.15      0.20       432\n",
      "\n",
      "    accuracy                           0.53      7803\n",
      "   macro avg       0.39      0.32      0.34      7803\n",
      "weighted avg       0.49      0.53      0.49      7803\n",
      "\n"
     ]
    },
    {
     "data": {
      "text/plain": [
       "<sklearn.metrics._plot.confusion_matrix.ConfusionMatrixDisplay at 0x7faf948bd990>"
      ]
     },
     "execution_count": 19,
     "metadata": {},
     "output_type": "execute_result"
    },
    {
     "data": {
      "image/png": "[encoded data removed]",
      "text/plain": [
       "<Figure size 432x288 with 2 Axes>"
      ]
     },
     "metadata": {
      "needs_background": "light"
     },
     "output_type": "display_data"
    }
   ],
   "source": [
    "loss, acc = model_LSTM.evaluate(rtmr_test_X, rtmr_test_y, verbose=2, batch_size=batch_size)\n",
    "\n",
    "rtmr_test_y_predict = model_LSTM.predict(rtmr_test_X) \n",
    "rtmr_test_y_predict = np.argmax(rtmr_test_y_predict, axis=1)\n",
    "rtmr_test_y_true = [row.index(1) for row in rtmr_test_y.tolist()]\n",
    "\n",
    "print(\"\\n accuracy: {} \\n\".format(acc))\n",
    "    \n",
    "print(classification_report(rtmr_test_y_true, rtmr_test_y_predict))\n",
    "\n",
    "cm = confusion_matrix(rtmr_test_y_true, rtmr_test_y_predict)\n",
    "disp = ConfusionMatrixDisplay(confusion_matrix=cm)\n",
    "disp.plot()"
   ]
  },
  {
   "cell_type": "markdown",
   "id": "eUy7tRHEfHUG",
   "metadata": {
    "id": "eUy7tRHEfHUG"
   },
   "source": [
    "## 6.5 Tested on S140"
   ]
  },
  {
   "cell_type": "code",
   "execution_count": 2,
   "id": "qTvnOxymfvRc",
   "metadata": {
    "colab": {
     "base_uri": "https://localhost:8080/",
     "height": 582
    },
    "id": "qTvnOxymfvRc",
    "outputId": "61b112ef-1faf-4da1-fa20-e884b653d966"
   },
   "outputs": [
    {
     "ename": "NameError",
     "evalue": "name 'model_LSTM' is not defined",
     "output_type": "error",
     "traceback": [
      "\u001b[0;31m---------------------------------------------------------------------------\u001b[0m",
      "\u001b[0;31mNameError\u001b[0m                                 Traceback (most recent call last)",
      "\u001b[0;32m/var/folders/qg/5jpdf6ns1hvdl1lbv9jwcqym0000gn/T/ipykernel_14883/2937235810.py\u001b[0m in \u001b[0;36m<module>\u001b[0;34m\u001b[0m\n\u001b[0;32m----> 1\u001b[0;31m \u001b[0mloss\u001b[0m\u001b[0;34m,\u001b[0m \u001b[0macc\u001b[0m \u001b[0;34m=\u001b[0m \u001b[0mmodel_LSTM\u001b[0m\u001b[0;34m.\u001b[0m\u001b[0mevaluate\u001b[0m\u001b[0;34m(\u001b[0m\u001b[0ms140_test_X\u001b[0m\u001b[0;34m,\u001b[0m \u001b[0ms140_test_y\u001b[0m\u001b[0;34m,\u001b[0m \u001b[0mverbose\u001b[0m\u001b[0;34m=\u001b[0m\u001b[0;36m2\u001b[0m\u001b[0;34m,\u001b[0m \u001b[0mbatch_size\u001b[0m\u001b[0;34m=\u001b[0m\u001b[0mbatch_size\u001b[0m\u001b[0;34m)\u001b[0m\u001b[0;34m\u001b[0m\u001b[0;34m\u001b[0m\u001b[0m\n\u001b[0m\u001b[1;32m      2\u001b[0m \u001b[0;34m\u001b[0m\u001b[0m\n\u001b[1;32m      3\u001b[0m \u001b[0ms140_test_y_predict\u001b[0m \u001b[0;34m=\u001b[0m \u001b[0mmodel_LSTM\u001b[0m\u001b[0;34m.\u001b[0m\u001b[0mpredict\u001b[0m\u001b[0;34m(\u001b[0m\u001b[0ms140_test_X\u001b[0m\u001b[0;34m)\u001b[0m\u001b[0;34m\u001b[0m\u001b[0;34m\u001b[0m\u001b[0m\n\u001b[1;32m      4\u001b[0m \u001b[0ms140_test_y_predict\u001b[0m \u001b[0;34m=\u001b[0m \u001b[0mnp\u001b[0m\u001b[0;34m.\u001b[0m\u001b[0margmax\u001b[0m\u001b[0;34m(\u001b[0m\u001b[0ms140_test_y_predict\u001b[0m\u001b[0;34m,\u001b[0m \u001b[0maxis\u001b[0m\u001b[0;34m=\u001b[0m\u001b[0;36m1\u001b[0m\u001b[0;34m)\u001b[0m\u001b[0;34m\u001b[0m\u001b[0;34m\u001b[0m\u001b[0m\n\u001b[1;32m      5\u001b[0m \u001b[0ms140_test_y_true\u001b[0m \u001b[0;34m=\u001b[0m \u001b[0;34m[\u001b[0m\u001b[0mrow\u001b[0m\u001b[0;34m.\u001b[0m\u001b[0mindex\u001b[0m\u001b[0;34m(\u001b[0m\u001b[0;36m1\u001b[0m\u001b[0;34m)\u001b[0m \u001b[0;32mfor\u001b[0m \u001b[0mrow\u001b[0m \u001b[0;32min\u001b[0m \u001b[0ms140_test_y\u001b[0m\u001b[0;34m.\u001b[0m\u001b[0mtolist\u001b[0m\u001b[0;34m(\u001b[0m\u001b[0;34m)\u001b[0m\u001b[0;34m]\u001b[0m\u001b[0;34m\u001b[0m\u001b[0;34m\u001b[0m\u001b[0m\n",
      "\u001b[0;31mNameError\u001b[0m: name 'model_LSTM' is not defined"
     ]
    }
   ],
   "source": [
    "loss, acc = model_LSTM.evaluate(s140_test_X, s140_test_y, verbose=2, batch_size=batch_size)\n",
    "\n",
    "s140_test_y_predict = model_LSTM.predict(s140_test_X) \n",
    "s140_test_y_predict = np.argmax(s140_test_y_predict, axis=1)\n",
    "s140_test_y_true = [row.index(1) for row in s140_test_y.tolist()]\n",
    "\n",
    "print(\"\\n accuracy: {} \\n\".format(acc))\n",
    "    \n",
    "print(classification_report(s140_test_y_true, s140_test_y_predict))\n",
    "\n",
    "cm = confusion_matrix(s140_test_y_true, s140_test_y_predict)\n",
    "disp = ConfusionMatrixDisplay(confusion_matrix=cm)\n",
    "disp.plot()"
   ]
  },
  {
   "cell_type": "markdown",
   "id": "B8d7ByzVrrKJ",
   "metadata": {
    "id": "B8d7ByzVrrKJ"
   },
   "source": [
    "# 7. Load the pre-trained model and make prediction"
   ]
  },
  {
   "cell_type": "code",
   "execution_count": 1,
   "id": "x1_WIj4Xkmwq",
   "metadata": {
    "id": "x1_WIj4Xkmwq"
   },
   "outputs": [],
   "source": [
    "def predict(text, model):\n",
    "    if model == \"nb1\":\n",
    "        return nb1.predict(text)\n",
    "    elif model == \"nb2\":\n",
    "        return nb2.predict(text)\n",
    "    elif model == \"nb3\":\n",
    "        return nb3.predict(text)\n",
    "    elif model == \"cnn\":\n",
    "        return model_CNN.predict(text)\n",
    "    elif model == \"lstm\":\n",
    "        return model_LSTM.predict(text)\n",
    "    else:\n",
    "        print(\"Invalid model!\")"
   ]
  },
  {
   "cell_type": "code",
   "execution_count": null,
   "id": "579b2ac6",
   "metadata": {},
   "outputs": [],
   "source": []
  }
 ],
 "metadata": {
  "accelerator": "GPU",
  "colab": {
   "collapsed_sections": [],
   "name": "Sentiment.ipynb",
   "provenance": []
  },
  "kernelspec": {
   "display_name": "Python 3 (ipykernel)",
   "language": "python",
   "name": "python3"
  },
  "language_info": {
   "codemirror_mode": {
    "name": "ipython",
    "version": 3
   },
   "file_extension": ".py",
   "mimetype": "text/x-python",
   "name": "python",
   "nbconvert_exporter": "python",
   "pygments_lexer": "ipython3",
   "version": "3.9.7"
  }
 },
 "nbformat": 4,
 "nbformat_minor": 5
}
